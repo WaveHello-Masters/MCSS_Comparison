{
 "cells": [
  {
   "cell_type": "markdown",
   "metadata": {},
   "source": [
    "# Code to generate the avg time comparison for the MCSS Models"
   ]
  },
  {
   "cell_type": "code",
   "execution_count": null,
   "metadata": {},
   "outputs": [],
   "source": [
    "import pandas as pd\n",
    "import matplotlib.pyplot as plt\n",
    "import numpy as np\n",
    "import os"
   ]
  },
  {
   "cell_type": "code",
   "execution_count": null,
   "metadata": {},
   "outputs": [],
   "source": [
    "# Set the paths to the data\n",
    "\n",
    "data_path = [r\"/mnt/data/the_deep/Geotech_Research/Master_MCSS_Comparison/Drained_Strain_Controlled/2_perf_plastic/perf_plastic_avg_time_error.csv\",\n",
    "             r\"/mnt/data/the_deep/Geotech_Research/Master_MCSS_Comparison/Drained_Strain_Controlled/3_plastic_dilat/perf_dilat_avg_time_error.csv\",\n",
    "             r\"/mnt/data/the_deep/Geotech_Research/Master_MCSS_Comparison/Drained_Strain_Controlled/4_plastic_soft/plastic_soft_avg_time_error.csv\",\n",
    "             r\"/mnt/data/the_deep/Geotech_Research/Master_MCSS_Comparison/Drained_Strain_Controlled/5_plastic_dilat_soft/plastic_dilat_soft_avg_time_error.csv\"\n",
    "             ]\n",
    "\n",
    "\n",
    "# Init list of dfs to hold the data\n",
    "dfs = []\n",
    "\n",
    "for path in data_path:\n",
    "    # Load the different dfs\n",
    "    df = pd.read_csv(path)\n",
    "\n",
    "    # Store the df\n",
    "    dfs.append(df)\n",
    "\n",
    "    \n",
    "# Plot the data\n",
    "\n",
    "# \n",
    "\n"
   ]
  },
  {
   "cell_type": "code",
   "execution_count": null,
   "metadata": {},
   "outputs": [],
   "source": [
    "def plot_marker(time, error, markers, axs, color):\n",
    "    for t, e, marker in zip(time, error, markers):\n",
    "        # Plot the data one point at a time to get the right markers\n",
    "        axs.scatter(t, e, color = color, marker = marker)"
   ]
  },
  {
   "cell_type": "code",
   "execution_count": null,
   "metadata": {},
   "outputs": [],
   "source": [
    "\n",
    "# Set the symbol used for the different iterations\n",
    "markers = [\"o\", \"*\", \"s\", \"o\" ]\n",
    "\n",
    "# Set the color map\n",
    "colors = plt.cm.viridis(np.linspace(0, 1, len(data_path)))\n",
    "\n",
    "# Make the OS models solid\n",
    "# Make the Sub models dashed\n",
    "linestyle = [\"solid\", \"dashed\"]\n",
    "\n",
    "labels = [\"Perf-Plas\", \"Perf-Plas w/ Dilat\", \"Plas-Soft\", \"Plas-Soft w/ Dilat-Soft\"]\n",
    "# Create a figure\n",
    "fig, axs = plt.subplots(nrows = 1, ncols = 2, figsize = (10, 4))\n",
    "for color, label, df in zip(colors, labels, dfs):\n",
    "    # Plot the OS data\n",
    "    \n",
    "    # Plot the stress data\n",
    "    # Plot the markers\n",
    "    plot_marker(df[\"os_avg_time\"], df[\"os_stress_error\"], markers, axs[0], color)\n",
    "\n",
    "    axs[0].plot(df[\"os_avg_time\"], df[\"os_stress_error\"], \n",
    "                color = color, linestyle = linestyle[0])\n",
    "\n",
    "    \n",
    "    # Plot the strain data\n",
    "    plot_marker(df[\"os_avg_time\"], df[\"os_strain_error\"], markers, axs[1], color)\n",
    "    axs[1].plot(df[\"os_avg_time\"], df[\"os_strain_error\"], \n",
    "                color = color, linestyle = linestyle[0], label = label)\n",
    "    \n",
    "    # Plot the sloan data\n",
    "    # plot the stress data\n",
    "    plot_marker(df[\"sloan_avg_time\"], df[\"sloan_stress_error\"], markers, axs[0], color)\n",
    "    axs[0].plot(df[\"sloan_avg_time\"], df[\"sloan_stress_error\"], \n",
    "                color = color, linestyle = linestyle[1])\n",
    "\n",
    "    # Plot the strain data\n",
    "    plot_marker(df[\"sloan_avg_time\"], df[\"sloan_strain_error\"], markers, axs[1], color)\n",
    "    axs[1].plot(df[\"sloan_avg_time\"], df[\"sloan_strain_error\"], \n",
    "                color = color, linestyle = linestyle[1])\n",
    "\n",
    "# Set the plot information\n",
    "axs[0].set_title(\"Stress Tensor Error\")\n",
    "axs[0].set_xlabel(\"Average Compute Time [s]\")\n",
    "axs[0].set_ylabel(\"Max. Abs. Error [kPa]\")\n",
    "\n",
    "axs[1].set_title(\"Strain Tensor Error\")\n",
    "axs[1].set_xlabel(\"Average Compute Time [s]\")\n",
    "axs[1].set_ylabel(\"Max. Abs. Error [kPa]\")\n",
    "axs[1].legend(loc = \"upper right\")\n",
    "\n",
    "\n",
    "plt.tight_layout()\n",
    "image_name = \"mcss_tensor_error.pdf\"\n",
    "mcss_latex_folder = \"/home/jmoore/Documents/Master_Thesis/chapters/Constitutive_Modelling/mcss_images\"\n",
    "save_fig_path = os.path.join(mcss_latex_folder, image_name)\n",
    "fig.savefig(save_fig_path, format = \"pdf\", bbox_inches = 'tight', dpi = 300)\n"
   ]
  },
  {
   "cell_type": "code",
   "execution_count": null,
   "metadata": {},
   "outputs": [],
   "source": []
  }
 ],
 "metadata": {
  "kernelspec": {
   "display_name": "VT_Research",
   "language": "python",
   "name": "python3"
  },
  "language_info": {
   "codemirror_mode": {
    "name": "ipython",
    "version": 3
   },
   "file_extension": ".py",
   "mimetype": "text/x-python",
   "name": "python",
   "nbconvert_exporter": "python",
   "pygments_lexer": "ipython3",
   "version": "3.12.5"
  }
 },
 "nbformat": 4,
 "nbformat_minor": 2
}
