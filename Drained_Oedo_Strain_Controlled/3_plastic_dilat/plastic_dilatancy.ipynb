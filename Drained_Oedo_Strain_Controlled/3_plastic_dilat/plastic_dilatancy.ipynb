{
 "cells": [
  {
   "cell_type": "code",
   "execution_count": null,
   "metadata": {},
   "outputs": [],
   "source": [
    "# Standard imports\n",
    "import os\n",
    "import sys\n",
    "import matplotlib.pyplot as plt\n",
    "import numpy as np"
   ]
  },
  {
   "cell_type": "code",
   "execution_count": null,
   "metadata": {},
   "outputs": [],
   "source": [
    "sys.path.append(r\"/mnt/data/the_deep/Geotech_Research/Critical_Soil_Models/pumat\")\n",
    "\n",
    "from lib.Load_Classes.Popular_Load_Class import PopularPath\n",
    "from lib.Driver_Classes.Mod_Driver_Setup import DriverModelSetup\n",
    "from lib.Driver_Classes.Mod_Driver_Model import DriverModel\n",
    "from lib.general_functions.executing_runs import generate_batch_script, run_batch_script"
   ]
  },
  {
   "cell_type": "code",
   "execution_count": null,
   "metadata": {},
   "outputs": [],
   "source": [
    "trx_strain = \"OedometricE1\"\n",
    "\n",
    "load_params = {\n",
    "    \"ninc\": 1000,\n",
    "    \"maxiter\": 0,\n",
    "    \"dtime\"  : 500_000,\n",
    "    \"every\"  : 10,\n",
    "    \"ddstran_1\": -0.4,\n",
    "}\n",
    "\n",
    "\n",
    "load = PopularPath(trx_strain, load_params)"
   ]
  },
  {
   "cell_type": "code",
   "execution_count": null,
   "metadata": {},
   "outputs": [],
   "source": [
    "# This needs to be in the order that the parameters should be in\n",
    "\n",
    "initial_fric_angle = 30.0\n",
    "initial_cohesion = 0\n",
    "newton_properties = {\n",
    "    \"Shear Modulus\"          : 100,\n",
    "    \"poisson ratio\"          : 0.2,\n",
    "    \"peak cohesion\"          : initial_cohesion,\n",
    "    \"residual cohesion\"      : 0,\n",
    "    \"peak fric angle\"        : initial_fric_angle,\n",
    "    \"residual fric angle\"    : 0,\n",
    "    \"peak dilatancy\"         : 10, \n",
    "    \"residual dilatancy\"     : 0,\n",
    "    \"softening shape factor\" : 0,\n",
    "    \"integration flag\"       : 0, # zero for substepping, 1 for Ortiz-Simo\n",
    "    \"Yield surface tolerance\": 1e-8,\n",
    "    \"num integration iters\"  : 1000,\n",
    "    \"Euler_DT_min\"           : 1e-8 # minimum pseudo time step for sloan integration\n",
    "}\n",
    "\n",
    "# Set the ortiz properties to be the same as the newton properties except change the integration flag to be 1\n",
    "ortiz_properties = newton_properties.copy()\n",
    "ortiz_properties[\"integration flag\"] = 1"
   ]
  },
  {
   "cell_type": "code",
   "execution_count": null,
   "metadata": {},
   "outputs": [],
   "source": [
    "# Get the name of the current folder\n",
    "current_working_dir = os.getcwd()\n",
    "\n",
    "# Path to the folder that the Ortiz-Simo data should be stored in\n",
    "Ortiz_folder = os.path.join(current_working_dir, \"Ortiz_Simo\")\n",
    "\n",
    "# Path to the folder that the Newton Raphson data should be stored in\n",
    "Newton_folder = os.path.join(current_working_dir, \"Newton_Raphson\")\n",
    "\n",
    "exe_path = r\"/mnt/data/the_deep/Geotech_Research/Critical_Soil_Models/MohrCoulomb_StrainSoft/build/gfortran_E167FD2A985B468F/app/MCSS_incrementalDriver\"\n"
   ]
  },
  {
   "cell_type": "code",
   "execution_count": null,
   "metadata": {},
   "outputs": [],
   "source": [
    "# Generate the \n",
    "models = [DriverModel(Ortiz_folder, \"Ortiz_MCSS\", exe_path, \"output.txt\"),\n",
    "          DriverModel(Newton_folder, \"Newton_MCSS\", exe_path, \"output.txt\")\n",
    "]\n",
    "\n"
   ]
  },
  {
   "cell_type": "code",
   "execution_count": null,
   "metadata": {},
   "outputs": [],
   "source": [
    "for model in models:\n",
    "    model.setup.clear_folder()"
   ]
  },
  {
   "cell_type": "code",
   "execution_count": null,
   "metadata": {},
   "outputs": [],
   "source": [
    "# Set the ortiz simo model\n",
    "models[0].setup.write_parameters_file(ortiz_properties)\n",
    "\n",
    "# Set the Newton model\n",
    "models[1].setup.write_parameters_file(newton_properties)"
   ]
  },
  {
   "cell_type": "code",
   "execution_count": null,
   "metadata": {},
   "outputs": [],
   "source": [
    "# Set the stress and state parameters\n",
    "stress = [-10, -10, -10, 0, 0, 0]\n",
    "state_params = {\"cohesion\": initial_cohesion,\n",
    "                \"fric angle\": initial_fric_angle * np.pi/180,\n",
    "                \"dilatancy angle\": 0,\n",
    "                \"EspP_1\": 0,\n",
    "                \"EspP_2\": 0,\n",
    "                \"EspP_3\": 0,\n",
    "                \"EspP_4\": 0,\n",
    "                \"EspP_5\": 0,\n",
    "                \"EspP_6\": 0\n",
    "}\n",
    "\n",
    "for model in models:\n",
    "    model.setup.write_initial_conditions_file(stress, state_params)\n",
    "    model.setup.store_loads(load)\n",
    "    model.setup.write_loads()"
   ]
  },
  {
   "cell_type": "code",
   "execution_count": null,
   "metadata": {},
   "outputs": [],
   "source": [
    "for model in models:\n",
    "    model.run_model()"
   ]
  },
  {
   "cell_type": "code",
   "execution_count": null,
   "metadata": {},
   "outputs": [],
   "source": [
    "for model in models:\n",
    "    print(model.results)"
   ]
  },
  {
   "cell_type": "code",
   "execution_count": null,
   "metadata": {},
   "outputs": [],
   "source": [
    "for model in models:\n",
    "    model.results.store_all()"
   ]
  },
  {
   "cell_type": "code",
   "execution_count": null,
   "metadata": {},
   "outputs": [],
   "source": [
    "# Generate a figure to plot the MCSS models\n",
    "fig, axs = plt.subplots(nrows = 2, ncols = 2, figsize = (8, 8))\n",
    "\n",
    "colors = [\"blue\", \"red\"]\n",
    "labels = [\"Ortiz-Simo\", \"Newton-Raphson\"]\n",
    "styles = [\"dashed\", \"solid\"]\n",
    "line_widths = [4, 1.75]\n",
    "\n",
    "for model, color, label, style, linewidth in zip(models, colors, labels, styles, line_widths):\n",
    "    model.results.quick_quad_plot(axial_strain_id=\"stran(1)\", compression_pos=True, axs = axs, \n",
    "                                  color = color , label=label, legend = True, linestyle = style, linewidth = linewidth)\n",
    "    \n"
   ]
  },
  {
   "cell_type": "code",
   "execution_count": null,
   "metadata": {},
   "outputs": [],
   "source": []
  }
 ],
 "metadata": {
  "kernelspec": {
   "display_name": "Virginia_Tech_Research",
   "language": "python",
   "name": "python3"
  },
  "language_info": {
   "codemirror_mode": {
    "name": "ipython",
    "version": 3
   },
   "file_extension": ".py",
   "mimetype": "text/x-python",
   "name": "python",
   "nbconvert_exporter": "python",
   "pygments_lexer": "ipython3",
   "version": "3.12.5"
  }
 },
 "nbformat": 4,
 "nbformat_minor": 2
}
